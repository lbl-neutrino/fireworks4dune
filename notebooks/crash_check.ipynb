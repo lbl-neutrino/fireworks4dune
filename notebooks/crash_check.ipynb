{
 "cells": [
  {
   "cell_type": "code",
   "execution_count": 1,
   "id": "83f641c1-176d-4dbf-8a9f-8ee691f02580",
   "metadata": {},
   "outputs": [],
   "source": [
    "from fireworks.core.launchpad import LaunchPad"
   ]
  },
  {
   "cell_type": "code",
   "execution_count": 2,
   "id": "7ca0ddfa-7168-4bcd-ab3e-b78f72a1313e",
   "metadata": {},
   "outputs": [],
   "source": [
    "lpad = LaunchPad.auto_load()\n",
    "db = lpad.connection[lpad.name]"
   ]
  },
  {
   "cell_type": "code",
   "execution_count": 14,
   "id": "194b5a75-8ef1-4aa6-9aa1-095757416206",
   "metadata": {},
   "outputs": [],
   "source": [
    "workflows = db['workflows']\n",
    "fireworks = db['fireworks']\n",
    "launches = db['launches']"
   ]
  },
  {
   "cell_type": "code",
   "execution_count": 12,
   "id": "6141a791-4b35-4bb0-b456-6beaeefe6a40",
   "metadata": {},
   "outputs": [
    {
     "data": {
      "text/plain": [
       "[{'_id': ObjectId('63ef0a11178fdf74b66992c2'),\n",
       "  'links': {'19944': []},\n",
       "  'parent_links': {},\n",
       "  'nodes': [19944],\n",
       "  'metadata': {},\n",
       "  'state': 'FIZZLED',\n",
       "  'name': 'MiniRun1_1E19_RHC_rock_split4',\n",
       "  'created_on': datetime.datetime(2023, 2, 17, 5, 1, 5, 254000),\n",
       "  'updated_on': datetime.datetime(2023, 2, 19, 7, 58, 22, 908000),\n",
       "  'fw_states': {'19944': 'FIZZLED'}}]"
      ]
     },
     "execution_count": 12,
     "metadata": {},
     "output_type": "execute_result"
    }
   ],
   "source": [
    "list(workflows.find({\"state\": \"FIZZLED\"}))"
   ]
  },
  {
   "cell_type": "code",
   "execution_count": 15,
   "id": "631469a3-1650-4f03-b2d0-5971395a05aa",
   "metadata": {},
   "outputs": [
    {
     "data": {
      "text/plain": [
       "[{'_id': ObjectId('63ef0a11178fdf74b66992c1'),\n",
       "  'spec': {'runner': 'SimFor2x2_v1_GenieEdep',\n",
       "   'base_env': 'MiniRun1_1E19_RHC_rock_split4',\n",
       "   'env': {'ARCUBE_INDEX': '19943'},\n",
       "   '_fworker': 'fworker_edep_sim',\n",
       "   '_tasks': [{'_fw_name': 'RepoRunner'}]},\n",
       "  'fw_id': 19944,\n",
       "  'created_on': '2023-02-17T05:01:05.254820',\n",
       "  'updated_on': '2023-02-19T07:58:22.908321',\n",
       "  'launches': [24366],\n",
       "  'archived_launches': [19939, 23814],\n",
       "  'state': 'FIZZLED',\n",
       "  'name': 'MiniRun1_1E19_RHC_rock_split4'}]"
      ]
     },
     "execution_count": 15,
     "metadata": {},
     "output_type": "execute_result"
    }
   ],
   "source": [
    "list(fireworks.find({\"state\": \"FIZZLED\"}))"
   ]
  },
  {
   "cell_type": "code",
   "execution_count": 18,
   "id": "e59ee99f-800e-44c6-812e-c1a1447c1c49",
   "metadata": {},
   "outputs": [
    {
     "data": {
      "text/plain": [
       "{'_id': ObjectId('63f1d53dd6bbc65dde8b6b7b'),\n",
       " 'fworker': {'name': 'fworker_edep_sim',\n",
       "  'category': '',\n",
       "  'query': '{}',\n",
       "  'env': {}},\n",
       " 'fw_id': 19944,\n",
       " 'launch_dir': '/global/cscratch1/sd/mkramer/fw_launches',\n",
       " 'host': 'nid00761',\n",
       " 'ip': '10.128.2.254',\n",
       " 'trackers': [],\n",
       " 'action': {'stored_data': {'_message': 'runtime error during task',\n",
       "   '_task': {'_fw_name': 'RepoRunner'},\n",
       "   '_exception': {'_stacktrace': 'Traceback (most recent call last):\\n  File \"/global/cfs/cdirs/dune/users/mkramer/mywork/fireworks4dune/fw.venv/lib/python3.9/site-packages/fireworks/core/rocket.py\", line 261, in run\\n    m_action = t.run_task(my_spec)\\n  File \"/global/cfs/cdirs/dune/users/mkramer/mywork/fireworks4dune/fw4dune_tasks/repo_runner.py\", line 44, in run_task\\n    check_call(runner[\\'cmd\\'],\\n  File \"/global/common/software/nersc/cori-2022q1/sw/python/3.9-anaconda-2021.11/lib/python3.9/subprocess.py\", line 373, in check_call\\n    raise CalledProcessError(retcode, cmd)\\nsubprocess.CalledProcessError: Command \\'./run_edep_sim_fw.sh\\' returned non-zero exit status 1.\\n',\n",
       "    '_details': None}},\n",
       "  'exit': True,\n",
       "  'update_spec': {},\n",
       "  'mod_spec': [],\n",
       "  'additions': [],\n",
       "  'detours': [],\n",
       "  'defuse_children': False,\n",
       "  'defuse_workflow': False,\n",
       "  'propagate': False},\n",
       " 'state': 'FIZZLED',\n",
       " 'state_history': [{'state': 'RUNNING',\n",
       "   'created_on': '2023-02-19T07:52:31.299287',\n",
       "   'updated_on': '2023-02-19T07:58:22.891433',\n",
       "   'checkpoint': {'_task_n': 0,\n",
       "    '_all_stored_data': {},\n",
       "    '_all_update_spec': {},\n",
       "    '_all_mod_spec': []}},\n",
       "  {'state': 'FIZZLED',\n",
       "   'created_on': '2023-02-19T07:58:22.895657',\n",
       "   'checkpoint': {'_task_n': 0,\n",
       "    '_all_stored_data': {},\n",
       "    '_all_update_spec': {},\n",
       "    '_all_mod_spec': []}}],\n",
       " 'launch_id': 24366,\n",
       " 'time_start': '2023-02-19T07:52:31.299287',\n",
       " 'time_end': '2023-02-19T07:58:22.895657',\n",
       " 'runtime_secs': 351.59637}"
      ]
     },
     "execution_count": 18,
     "metadata": {},
     "output_type": "execute_result"
    }
   ],
   "source": [
    "launches.find_one({\"launch_id\": 24366})"
   ]
  },
  {
   "cell_type": "markdown",
   "id": "44f700f6-cce6-49e2-98ee-908c41fbdde6",
   "metadata": {},
   "source": [
    "HACK: In `/global/cscratch1/sd/mkramer/logs.edep_sim_job_fw`, `rg \"globalIdx is 19943\"`\n",
    "(need to include SLURM job/task ID and/or log file path in Mongo DB! cf. FWAction)\n",
    "\n",
    "That tells us that the log file is `/global/cscratch1/sd/mkramer/logs.edep_sim_job_fw/125115/output-125115.31.txt`\n",
    "\n",
    "Underlying failure: `gevgen_fnal: KineUtils.cxx:325: genie::Range1D_t genie::utils::kinematics::InelQ2Lim_W(double, double, double, double, double): Assertion ``s>0' failed.`\n",
    "\n",
    "Rerun it interactively:\n",
    "\n",
    "```bash\n",
    "# on perlmutter:\n",
    "cd ~mkramer/dunescratch/mywork/fireworks4dune\n",
    "source admin/load_fireworks.sh\n",
    "lpad rerun_fws -s FIZZLED\n",
    "rlaunch -w fw_config/fworker_edep_sim.yaml singleshot | tee straggler.txt\n",
    "# later move straggler.txt to $CSCRATCH/logs.edep_sim_job_fw\n",
    "```\n",
    "\n",
    "Crashed again. Hacked around it by changing the seed from 19944 to 199440. Then it went through.\n",
    "\n",
    "Perlmutter times (login node, 1 process):\n",
    "```\n",
    "gevgen_fnal 99% 1103236 8:30.63\n",
    "gntpc 96% 476908 0:01.99\n",
    "edep-sim 94% 889516 12:22.87\n",
    "python3 108% 418752 0:36.18\n",
    "```\n",
    "\n",
    "Cori times (batch node, 64 processes):\n",
    "```\n",
    "gevgen_fnal 48% 1105400 1:04:45\n",
    "gntpc 89% 474708 0:05.77\n",
    "edep-sim 97% 804096 39:35.00\n",
    "python3 33% 399152 6:16.99\n",
    "```\n",
    "\n",
    "Expect the Perlmutter advantage to be less dramatic when we're running 256 processes per node."
   ]
  },
  {
   "cell_type": "code",
   "execution_count": 19,
   "id": "b3abf0c5-790d-43a2-9976-67ebe73c52b7",
   "metadata": {},
   "outputs": [
    {
     "data": {
      "text/plain": [
       "2.1367521367521367"
      ]
     },
     "execution_count": 19,
     "metadata": {},
     "output_type": "execute_result"
    }
   ],
   "source": [
    "1e19 / (6.5e13 * 3000 * 24)"
   ]
  }
 ],
 "metadata": {
  "kernelspec": {
   "display_name": "fw4dune",
   "language": "python",
   "name": "fw4dune"
  },
  "language_info": {
   "codemirror_mode": {
    "name": "ipython",
    "version": 3
   },
   "file_extension": ".py",
   "mimetype": "text/x-python",
   "name": "python",
   "nbconvert_exporter": "python",
   "pygments_lexer": "ipython3",
   "version": "3.9.7"
  }
 },
 "nbformat": 4,
 "nbformat_minor": 5
}
